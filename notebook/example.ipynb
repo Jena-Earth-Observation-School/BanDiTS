{
 "cells": [
  {
   "cell_type": "markdown",
   "metadata": {},
   "source": [
    "# BanDiTS - Breakpoint Detection in Sentinel-1 Time Series"
   ]
  },
  {
   "cell_type": "markdown",
   "metadata": {},
   "source": [
    "## Import modules\n",
    "This section is used to import all necessary modules and packages to run the example code"
   ]
  },
  {
   "cell_type": "code",
   "execution_count": 17,
   "metadata": {},
   "outputs": [],
   "source": [
    "import os\n",
    "import numpy as np\n",
    "from datetime import datetime\n",
    "from BanDiTS import preprocessing, apply_along_axis, export_arr\n",
    "from BanDiTS.statistical_functions import *\n",
    "from BanDiTS.filter_functions import *\n",
    "from BanDiTS.breakpoint_functions import *\n",
    "from pathos import multiprocessing as mp"
   ]
  },
  {
   "cell_type": "markdown",
   "metadata": {},
   "source": [
    "### Define user-dependent input folders and functions to execute\n",
    "The _main_ function contains all the user input to run the following functions to create the desired outputs\n",
    "\n",
    "* _raster folder_ is used to specify the input folder location\n",
    "* _raster_filname_ is used to specify the input folder location\n",
    "\n",
    " * This could also be enclosed in a for loop with multiple raster files to work through multiple files automaticly\n",
    " \n",
    " \n",
    "* _filter_functions_ is used to specify the desired filter functions to apply\n",
    " * this can contain multiple functions in a list\n",
    "* _filter_args_ contains the arguments for the filter functions (e.g.: [{\"kernel\": 9}])\n",
    "\n",
    "\n",
    "* _statistical_functions_ is used to declare the statistical functions to execute, syntax ist equivalent to _filter_functions_\n",
    "* _statistical_args_ is also equivalent to the _filter_args_ with the difference, that most statistical functions don't require arguments to run. This can be determined by looking at _statistical_functions.py_\n",
    "\n",
    "\n",
    "* The _breakpoint_functions_ module can be used to access further functionionalty for breakpoint detection, it can mostly be applied in a similar fashion as the statistical functions. \n",
    "\n",
    "\n",
    "* _output_folder_ is used to specify the output folder location"
   ]
  },
  {
   "cell_type": "code",
   "execution_count": 18,
   "metadata": {},
   "outputs": [],
   "source": [
    "def main():\n",
    "    ###################################     INPUT    ########################################\n",
    "\n",
    "    # Input Folder:\n",
    "    raster_folder = \"C:/Users/jz199/Documents/Studium/Master/1. Semester/Vorlesungsmitschriften/GEO402 - Ableitung von Landoberflächenparametern/Subset\"\n",
    "\n",
    "    # Input File Name\n",
    "    raster_filename = \"SubsetVH.tif\"\n",
    "\n",
    "    ###################################     OUTPUT    ########################################\n",
    "\n",
    "    # Output Folder:\n",
    "    output_folder = \"C:/Users/jz199/Documents/Studium/Master/1. Semester/Vorlesungsmitschriften/GEO419 - Pythonprogrammierung Habermeyer/GEO402_Output/Latest\"\n",
    "\n",
    "    ####################### USER-DEPENDENT FILTER-FUNCTIONS TO BE USED #######################\n",
    "    # Example for mean filter:\n",
    "    # filter_functions = [mean_filter, mean_filter, mean_filter]\n",
    "    # filter_args = [{\"kernel\": 3}, {\"kernel\": 9}, {\"kernel\": 13}]\n",
    "\n",
    "    # Example for median filter:\n",
    "    # filter_functions = [median_filter, median_filter, median_filter]\n",
    "    # filter_args = [{\"kernel\": 3}, {\"kernel\": 9}, {\"kernel\": 13}]\n",
    "\n",
    "    # Example for Sobel filter:\n",
    "    filter_functions = [sobel_filter, sobel_filter, sobel_filter]\n",
    "    filter_args = [{\"kernel\": [-5, 0, 5]}, {\"kernel\": [-5, -5, 0, 5, 5]}, {\"kernel\": [-5, -5, -5, -5, 0, 5, 5, 5, 5]}]\n",
    "\n",
    "    ################### USER-DEPENDENT STATISTICAL FUNCTIONS TO BE USED ######################\n",
    "    # Example for statistical function:\n",
    "    statistical_functions = [percentile]\n",
    "    statistical_args = [{\"upper\": 95, \"lower\": 5}]\n",
    "\n",
    "    ###################### USER-DEPENDENT BREAKPOINT FUNCTIONS TO BE USED ####################\n",
    "    # Example for breakpoint functions (APPLY ONLY AFTER MEDIAN- AND SOBEL-FILTER!!!):\n",
    "    breakpoint_functions = [count_breakpoint]\n",
    "    breakpoint_args = [{\"threshold\": 120}]\n",
    "\n",
    "    ######################   NO USER INPUT BEYOND THIS POINT   ###############################\n",
    "\n",
    "    return raster_folder, raster_filename, output_folder, filter_functions, filter_args, statistical_functions, \\\n",
    "        statistical_args, breakpoint_functions, breakpoint_args"
   ]
  },
  {
   "cell_type": "markdown",
   "metadata": {},
   "source": [
    "## Filter function\n",
    "This function is used for filtering of the time series and returns a filtered 3D stack of time series.\n",
    "* It applies a for loop to iterate over the _filter_functions_ and produces an individual ouptut for each function"
   ]
  },
  {
   "cell_type": "code",
   "execution_count": 19,
   "metadata": {},
   "outputs": [],
   "source": [
    "def filter_func(raster_folder, raster_filename, output_folder, filter_functions, filter_args):\n",
    "    start_time = datetime.now()\n",
    "    input_raster = os.path.join(raster_folder, raster_filename)\n",
    "    hdr_file = \"\"   # only used for ENVI stacks\n",
    "    outname = os.path.join(output_folder, raster_filename)\n",
    "    if outname.find(\".tif\") != -1:\n",
    "        outname = outname[0:len(outname) - 4]\n",
    "\n",
    "    # arr: full size numpy array 3D XxYxZ 200x300x100\n",
    "    arr = preprocessing.rio_array(input_raster, hdr_file=hdr_file)\n",
    "\n",
    "    # activate to get list of dates from .hdr file (.hdr file needs to be specified above)\n",
    "    # dates = arr[1]\n",
    "\n",
    "    for i, func in enumerate(filter_functions):\n",
    "        kernel_size = str(filter_args[i]['kernel'])\n",
    "        filtered_arr = apply_along_axis.parallel_apply_along_axis(func1d=func, arr=arr[0], axis=0, cores=mp.cpu_count(),\n",
    "                                                                  **filter_args[i])\n",
    "        filtered_arr = np.rollaxis(filtered_arr, 2)\n",
    "        filtered_arr = np.rollaxis(filtered_arr, 1)\n",
    "        filtered_arr = np.rollaxis(filtered_arr, 2)\n",
    "\n",
    "        dtype = type(filtered_arr[0][0][0])\n",
    "        func_name_end = str(func).find(\" at\")\n",
    "        func_name_start = 10\n",
    "        func_name = str(func)[func_name_start:func_name_end]\n",
    "\n",
    "        # exporting result to new raster\n",
    "        export_arr.functions_out_array(outname=outname + \"_\" + func_name + str(kernel_size), arr=filtered_arr,\n",
    "                                       input_file=input_raster, dtype=dtype)\n",
    "    # print time to this point\n",
    "    filter_time = datetime.now()\n",
    "    print(\"filter-time = \", filter_time - start_time, \"Hr:min:sec\")"
   ]
  },
  {
   "cell_type": "markdown",
   "metadata": {},
   "source": [
    "## Statistics function\n",
    "This function is used to extract statistical parameters from the time series and returns the statistical time series values for each pixel in the x- and y-dimension of the stack.\n",
    "* it applies a for loop to iterate over the _statistical_functions_ and produces an individual ouptut for each function"
   ]
  },
  {
   "cell_type": "code",
   "execution_count": 20,
   "metadata": {},
   "outputs": [],
   "source": [
    "def statistics_func(raster_folder, raster_filename, output_folder, statistical_functions, statistical_args):\n",
    "    start_time = datetime.now()\n",
    "    input_raster = os.path.join(raster_folder, raster_filename)\n",
    "    hdr_file = \"\"  # input_raster + \".hdr\"        # only used for ENVI stacks\n",
    "    outname = os.path.join(output_folder, raster_filename)\n",
    "    if outname.find(\".tif\") != -1:\n",
    "        outname = outname[0:len(outname) - 4]\n",
    "\n",
    "    # arr: full size numpy array 3D XxYxZ 200x300x100\n",
    "    arr = preprocessing.rio_array(input_raster, hdr_file=hdr_file)\n",
    "\n",
    "    # activate to get list of dates from .hdr file (.hdr file needs to be specified above)\n",
    "    # dates = arr[1]\n",
    "\n",
    "    for i, func in enumerate(statistical_functions):\n",
    "        # creating results with calling wanted algorithm in parallel_apply_along_axis for quick runtime\n",
    "        result = apply_along_axis.parallel_apply_along_axis(func1d=func, arr=arr[0], axis=0,\n",
    "                                                            cores=mp.cpu_count(), **statistical_args[i])\n",
    "\n",
    "        # selecting dtype based on result\n",
    "        dtype = type(result[0][0])\n",
    "\n",
    "        func_name_end = str(func).find(\" at\")\n",
    "        func_name_start = 10\n",
    "        func_name = str(func)[func_name_start:func_name_end]\n",
    "\n",
    "        # exporting result to new raster\n",
    "        export_arr.functions_out_array(outname=outname + \"_\" + func_name + str(i), arr=result, input_file=input_raster,\n",
    "                                       dtype=dtype)\n",
    "    # print time to this point\n",
    "    statistics_time = datetime.now()\n",
    "    print(\"breakpoint-time = \", statistics_time - start_time, \"Hr:min:sec\")"
   ]
  },
  {
   "cell_type": "markdown",
   "metadata": {},
   "source": [
    "## Breakpoint function\n",
    "This function is used to execute the functions implemented in breakpoint_functions.py \n",
    "* it applies a for loop to iterate over the _breakpoint_functions_ and produces an individual ouptut for each function"
   ]
  },
  {
   "cell_type": "code",
   "execution_count": 21,
   "metadata": {},
   "outputs": [],
   "source": [
    "def breakpoint_func(raster_folder, raster_filename, output_folder, breakpoint_functions, breakpoint_args):\n",
    "    start_time = datetime.now()\n",
    "    input_raster = os.path.join(raster_folder, raster_filename)\n",
    "    hdr_file = \"\"   # only used for ENVI stacks\n",
    "    outname = os.path.join(output_folder, raster_filename)\n",
    "    if outname.find(\".tif\") != -1:\n",
    "        outname = outname[0:len(outname) - 4]\n",
    "\n",
    "    # arr: full size numpy array 3D XxYxZ 200x300x100\n",
    "    arr = preprocessing.rio_array(input_raster, hdr_file=hdr_file)\n",
    "\n",
    "    # activate to get list of dates from .hdr file (.hdr file needs to be specified above)\n",
    "    # dates = arr[1]\n",
    "\n",
    "    for i, func in enumerate(breakpoint_functions):\n",
    "        threshold_size = str(breakpoint_args[i]['threshold'])\n",
    "        result = apply_along_axis.parallel_apply_along_axis(func1d=func, arr=arr[0], axis=0, cores=mp.cpu_count(),\n",
    "                                                                  **breakpoint_args[i])\n",
    "        # selecting dtype based on result\n",
    "        dtype = type(result[0][0])\n",
    "\n",
    "        func_name_end = str(func).find(\" at\")\n",
    "        func_name_start = 10\n",
    "        func_name = str(func)[func_name_start:func_name_end]\n",
    "\n",
    "        # exporting result to new raster\n",
    "        export_arr.functions_out_array(outname=outname + \"_\" + func_name + str(threshold_size), arr=result,\n",
    "                                       input_file=input_raster, dtype=dtype)\n",
    "    # print time to this point\n",
    "    filter_time = datetime.now()\n",
    "    print(\"filter-time = \", filter_time - start_time, \"Hr:min:sec\")"
   ]
  },
  {
   "cell_type": "markdown",
   "metadata": {},
   "source": [
    "## Call main function \n",
    "This function is used to call the executable functions\n"
   ]
  },
  {
   "cell_type": "code",
   "execution_count": 27,
   "metadata": {},
   "outputs": [
    {
     "name": "stdout",
     "output_type": "stream",
     "text": [
      "breakpoint-time =  0:00:32.366998 Hr:min:sec\n"
     ]
    }
   ],
   "source": [
    "if __name__ == '__main__':\n",
    "    start_time = datetime.now()\n",
    "    in_variables = main()\n",
    "\n",
    "    # call this function to execute filter functions:\n",
    "    # filter_func(raster_folder=str(in_variables[0]), raster_filename=str(in_variables[1]),\n",
    "    #             output_folder=str(in_variables[2]), filter_functions=in_variables[3],\n",
    "    #             filter_args=in_variables[4])\n",
    "\n",
    "    # call this function to execute statistics functions:\n",
    "    statistics_func(raster_folder=str(in_variables[0]), raster_filename=str(in_variables[1]),\n",
    "                    output_folder=str(in_variables[2]), statistical_functions=in_variables[5],\n",
    "                    statistical_args=in_variables[6])\n",
    "\n",
    "    # call this function to execute breakpoint functions:\n",
    "    # breakpoint_func(raster_folder=str(in_variables[0]), raster_filename=str(in_variables[1]),\n",
    "    #                 output_folder=str(in_variables[2]), breakpoint_functions=in_variables[7],\n",
    "    #                 breakpoint_args=in_variables[8])\n"
   ]
  },
  {
   "cell_type": "markdown",
   "metadata": {},
   "source": [
    "## Show image\n",
    "Some example visualization of the generated maps\n",
    "* _For binary maps use: cmap=\"binary\"_"
   ]
  },
  {
   "cell_type": "code",
   "execution_count": 28,
   "metadata": {},
   "outputs": [
    {
     "ename": "TypeError",
     "evalue": "'NoneType' object is not subscriptable",
     "output_type": "error",
     "traceback": [
      "\u001b[1;31m---------------------------------------------------------------------------\u001b[0m",
      "\u001b[1;31mTypeError\u001b[0m                                 Traceback (most recent call last)",
      "\u001b[1;32m<ipython-input-28-f7ab750f5bc3>\u001b[0m in \u001b[0;36m<module>\u001b[1;34m\u001b[0m\n\u001b[0;32m      1\u001b[0m \u001b[0mget_ipython\u001b[0m\u001b[1;33m(\u001b[0m\u001b[1;33m)\u001b[0m\u001b[1;33m.\u001b[0m\u001b[0mrun_line_magic\u001b[0m\u001b[1;33m(\u001b[0m\u001b[1;34m'matplotlib'\u001b[0m\u001b[1;33m,\u001b[0m \u001b[1;34m'notebook'\u001b[0m\u001b[1;33m)\u001b[0m\u001b[1;33m\u001b[0m\u001b[1;33m\u001b[0m\u001b[0m\n\u001b[1;32m----> 2\u001b[1;33m \u001b[0mplt\u001b[0m\u001b[1;33m.\u001b[0m\u001b[0mimshow\u001b[0m\u001b[1;33m(\u001b[0m\u001b[0mresult\u001b[0m\u001b[1;33m[\u001b[0m\u001b[1;36m0\u001b[0m\u001b[1;33m]\u001b[0m\u001b[1;33m,\u001b[0m \u001b[0mcmap\u001b[0m\u001b[1;33m=\u001b[0m\u001b[1;34m\"binary\"\u001b[0m\u001b[1;33m)\u001b[0m\u001b[1;33m\u001b[0m\u001b[1;33m\u001b[0m\u001b[0m\n\u001b[0m",
      "\u001b[1;31mTypeError\u001b[0m: 'NoneType' object is not subscriptable"
     ]
    }
   ],
   "source": [
    "%matplotlib notebook\n",
    "plt.imshow(result[0], cmap=\"binary\")"
   ]
  },
  {
   "cell_type": "code",
   "execution_count": null,
   "metadata": {},
   "outputs": [],
   "source": []
  }
 ],
 "metadata": {
  "kernelspec": {
   "display_name": "Python 3",
   "language": "python",
   "name": "python3"
  },
  "language_info": {
   "codemirror_mode": {
    "name": "ipython",
    "version": 3
   },
   "file_extension": ".py",
   "mimetype": "text/x-python",
   "name": "python",
   "nbconvert_exporter": "python",
   "pygments_lexer": "ipython3",
   "version": "3.8.0"
  }
 },
 "nbformat": 4,
 "nbformat_minor": 2
}
